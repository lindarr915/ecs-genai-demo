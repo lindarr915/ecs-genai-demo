{
 "cells": [
  {
   "cell_type": "code",
   "execution_count": 1,
   "metadata": {},
   "outputs": [
    {
     "name": "stdout",
     "output_type": "stream",
     "text": [
      "Requirement already satisfied: requests in /Users/lindarr/environment/ecs-genai-demo/.venv/lib/python3.11/site-packages (2.32.3)\n",
      "Requirement already satisfied: charset-normalizer<4,>=2 in /Users/lindarr/environment/ecs-genai-demo/.venv/lib/python3.11/site-packages (from requests) (3.3.2)\n",
      "Requirement already satisfied: idna<4,>=2.5 in /Users/lindarr/environment/ecs-genai-demo/.venv/lib/python3.11/site-packages (from requests) (3.10)\n",
      "Requirement already satisfied: urllib3<3,>=1.21.1 in /Users/lindarr/environment/ecs-genai-demo/.venv/lib/python3.11/site-packages (from requests) (2.2.3)\n",
      "Requirement already satisfied: certifi>=2017.4.17 in /Users/lindarr/environment/ecs-genai-demo/.venv/lib/python3.11/site-packages (from requests) (2024.8.30)\n",
      "\n",
      "\u001b[1m[\u001b[0m\u001b[34;49mnotice\u001b[0m\u001b[1;39;49m]\u001b[0m\u001b[39;49m A new release of pip is available: \u001b[0m\u001b[31;49m23.2.1\u001b[0m\u001b[39;49m -> \u001b[0m\u001b[32;49m24.2\u001b[0m\n",
      "\u001b[1m[\u001b[0m\u001b[34;49mnotice\u001b[0m\u001b[1;39;49m]\u001b[0m\u001b[39;49m To update, run: \u001b[0m\u001b[32;49mpip install --upgrade pip\u001b[0m\n",
      "{\"message\":\"Hello World\"}\n"
     ]
    }
   ],
   "source": [
    "!pip install requests\n",
    "\n",
    "# sending a HTTP GET request \n",
    "\n",
    "import requests\n",
    "\n",
    "# The URL you want to send the GET request to\n",
    "load_balancer_endpoint = 'EcsGen-MyEC2-aDqwoeeJdAhM-2067340201.us-west-2.elb.amazonaws.com'\n",
    "url = f'http://{load_balancer_endpoint}/'\n",
    "\n",
    "# Send the GET request\n",
    "response = requests.get(url)\n",
    "\n",
    "# Check if the request was successful\n",
    "if response.status_code == 200:\n",
    "    # Print the response content\n",
    "    print(response.text)\n",
    "    \n",
    "    # If the response is JSON, you can parse it like this:\n",
    "    # data = response.json()\n",
    "    # print(data)\n",
    "else:\n",
    "    print(f\"Failed to retrieve data: Status code {response.status_code}\")\n"
   ]
  },
  {
   "cell_type": "markdown",
   "metadata": {},
   "source": [
    "1. Scale Out based on metrics, Locust \n",
    "2. Observability Debugging, GPU Metrics\n",
    "--\n",
    "3. Preload Container Image\n",
    "4. S3 Mountpoint for Model Storage  "
   ]
  }
 ],
 "metadata": {
  "kernelspec": {
   "display_name": ".venv",
   "language": "python",
   "name": "python3"
  },
  "language_info": {
   "codemirror_mode": {
    "name": "ipython",
    "version": 3
   },
   "file_extension": ".py",
   "mimetype": "text/x-python",
   "name": "python",
   "nbconvert_exporter": "python",
   "pygments_lexer": "ipython3",
   "version": "3.11.5"
  }
 },
 "nbformat": 4,
 "nbformat_minor": 2
}
